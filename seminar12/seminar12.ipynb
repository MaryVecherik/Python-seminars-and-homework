{
 "cells": [
  {
   "cell_type": "code",
   "execution_count": 1,
   "id": "152ed7e8",
   "metadata": {},
   "outputs": [],
   "source": [
    "# Дана задача:\n",
    "# К аналитику обратился риэлтор c задачей выставить ценник для продажи объектов недвижимости площадью 48м2 и 54м2. В ходе работы над задачей аналитик выяснил, что:\n",
    "# объект 31м2 стоит $19310\n",
    "# объект 51м2 стоит $52150\n",
    "# объект 61м2 стоит $74570\n",
    "# Вопрос: что. сказать риелтору?\n",
    "\n",
    "# f(s) = a*s^2 + b*s + c\n",
    "# Задача сводится к нахождению коэффициентов a,b,c путем решения сиситемы уравнений:\n",
    "# a*(31**2) + 31*b + c = 19310\n",
    "# a(51**2) + 51*b + c = 52150\n",
    "# a(61**2) + 61*b + c = 74570\n"
   ]
  },
  {
   "cell_type": "code",
   "execution_count": 16,
   "id": "ef50dd96",
   "metadata": {},
   "outputs": [],
   "source": [
    "from sympy import *"
   ]
  },
  {
   "cell_type": "code",
   "execution_count": 28,
   "id": "d6ca8b19",
   "metadata": {},
   "outputs": [
    {
     "name": "stdout",
     "output_type": "stream",
     "text": [
      "20 2 28\n",
      "(20, 2, 28)\n"
     ]
    }
   ],
   "source": [
    "a, b, c = symbols('a, b, c')\n",
    "eqns = [a*(31**2) + 31*b + c - 19310, a*(51**2) + 51*b + c - 52150, a*(61**2) + 61*b + c - 74570]\n",
    "a, b, c = tuple(linsolve(eqns, a, b, c))[0]\n",
    "print(a, b, c)\n",
    "print(tuple(solve(eqns).values()))"
   ]
  },
  {
   "cell_type": "code",
   "execution_count": 27,
   "id": "7968360c",
   "metadata": {},
   "outputs": [
    {
     "name": "stdout",
     "output_type": "stream",
     "text": [
      "Площадь обьекта: 67\n",
      "89942\n"
     ]
    }
   ],
   "source": [
    "s = Symbol('s')\n",
    "f = a*s**2 + b*s + c\n",
    "sqare = int(input('Площадь обьекта: '))\n",
    "print(int(f.evalf(subs = {s:sqare})))"
   ]
  },
  {
   "cell_type": "code",
   "execution_count": null,
   "id": "f113559a",
   "metadata": {},
   "outputs": [],
   "source": []
  }
 ],
 "metadata": {
  "kernelspec": {
   "display_name": "Python 3 (ipykernel)",
   "language": "python",
   "name": "python3"
  },
  "language_info": {
   "codemirror_mode": {
    "name": "ipython",
    "version": 3
   },
   "file_extension": ".py",
   "mimetype": "text/x-python",
   "name": "python",
   "nbconvert_exporter": "python",
   "pygments_lexer": "ipython3",
   "version": "3.9.13"
  }
 },
 "nbformat": 4,
 "nbformat_minor": 5
}
